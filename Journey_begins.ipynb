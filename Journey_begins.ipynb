{
  "nbformat": 4,
  "nbformat_minor": 0,
  "metadata": {
    "colab": {
      "provenance": [],
      "authorship_tag": "ABX9TyN74KDKuKIrb8xHZcIbrGjt",
      "include_colab_link": true
    },
    "kernelspec": {
      "name": "python3",
      "display_name": "Python 3"
    },
    "language_info": {
      "name": "python"
    }
  },
  "cells": [
    {
      "cell_type": "markdown",
      "metadata": {
        "id": "view-in-github",
        "colab_type": "text"
      },
      "source": [
        "<a href=\"https://colab.research.google.com/github/pspanji/BA--BI--DS/blob/main/Journey_begins.ipynb\" target=\"_parent\"><img src=\"https://colab.research.google.com/assets/colab-badge.svg\" alt=\"Open In Colab\"/></a>"
      ]
    },
    {
      "cell_type": "code",
      "execution_count": 2,
      "metadata": {
        "colab": {
          "base_uri": "https://localhost:8080/"
        },
        "id": "wdeI1o1k670k",
        "outputId": "423b14a3-c55a-48d3-c495-856358618ac3"
      },
      "outputs": [
        {
          "output_type": "stream",
          "name": "stdout",
          "text": [
            "Journey to better world begins now\n"
          ]
        }
      ],
      "source": [
        "#Python practice\n",
        "#first command is print\n",
        "print(\"Journey to better world begins now\")\n"
      ]
    },
    {
      "cell_type": "code",
      "source": [
        "# Variables\n",
        "x=1\n",
        "y=1.99\n",
        "z=\"ABC\"\n",
        "print(x+y)\n",
        "\n"
      ],
      "metadata": {
        "colab": {
          "base_uri": "https://localhost:8080/"
        },
        "id": "M_mjzxGP_BVu",
        "outputId": "b2d9f278-b0ae-4f4f-89b7-04de67cd2439"
      },
      "execution_count": 4,
      "outputs": [
        {
          "output_type": "stream",
          "name": "stdout",
          "text": [
            "2.99\n"
          ]
        }
      ]
    },
    {
      "cell_type": "code",
      "source": [
        "def1 = 10.5\n",
        "manoj =50\n",
        "manoj=60"
      ],
      "metadata": {
        "id": "bIyD4CVO_d0m"
      },
      "execution_count": 5,
      "outputs": []
    },
    {
      "cell_type": "code",
      "source": [
        "import keyword\n",
        "keyword.kwlist\n"
      ],
      "metadata": {
        "colab": {
          "base_uri": "https://localhost:8080/"
        },
        "id": "O-XsLtpmAhaT",
        "outputId": "f5fe50b0-22ba-4806-98b5-819f15290d14"
      },
      "execution_count": 8,
      "outputs": [
        {
          "output_type": "execute_result",
          "data": {
            "text/plain": [
              "['False',\n",
              " 'None',\n",
              " 'True',\n",
              " 'and',\n",
              " 'as',\n",
              " 'assert',\n",
              " 'async',\n",
              " 'await',\n",
              " 'break',\n",
              " 'class',\n",
              " 'continue',\n",
              " 'def',\n",
              " 'del',\n",
              " 'elif',\n",
              " 'else',\n",
              " 'except',\n",
              " 'finally',\n",
              " 'for',\n",
              " 'from',\n",
              " 'global',\n",
              " 'if',\n",
              " 'import',\n",
              " 'in',\n",
              " 'is',\n",
              " 'lambda',\n",
              " 'nonlocal',\n",
              " 'not',\n",
              " 'or',\n",
              " 'pass',\n",
              " 'raise',\n",
              " 'return',\n",
              " 'try',\n",
              " 'while',\n",
              " 'with',\n",
              " 'yield']"
            ]
          },
          "metadata": {},
          "execution_count": 8
        }
      ]
    },
    {
      "cell_type": "markdown",
      "source": [
        "# command type() sytnax : type() will determine the type of variable\n",
        "#Variables can be of various types like int,float,boolen,string, set, forzenset, dict, tuple, list, bytes, Bytearrey, Range\n",
        "int = 1 # number\n",
        "float = 1.99 # floating point value\n",
        "string1 = \"Words\" # Alphanumeric character enclosed in double or single quotes\n",
        "#Boolen = true or false\n",
        "#Bytes\n",
        "#Bytearray\n",
        "#Range\n",
        "#List\n",
        "#Tuple\n",
        "#Set\n",
        "#Frozenset\n",
        "#Dict\n",
        "#None#"
      ],
      "metadata": {
        "id": "kSFblnqCAsjt"
      }
    },
    {
      "cell_type": "code",
      "source": [
        "#1) type()\n",
        "#to check the type of variable\n",
        "y=13\n",
        "print(type(y))\n",
        "\n",
        "#2)id()\n",
        "#to get address of object\n",
        "id(y)"
      ],
      "metadata": {
        "colab": {
          "base_uri": "https://localhost:8080/"
        },
        "id": "9gBVHTuyCJqJ",
        "outputId": "75e03d52-81ea-491d-c639-07b7c833fc92"
      },
      "execution_count": 11,
      "outputs": [
        {
          "output_type": "stream",
          "name": "stdout",
          "text": [
            "<class 'int'>\n"
          ]
        },
        {
          "output_type": "execute_result",
          "data": {
            "text/plain": [
              "135801201410672"
            ]
          },
          "metadata": {},
          "execution_count": 11
        }
      ]
    },
    {
      "cell_type": "code",
      "source": [
        "#Lets learn about data types\n",
        "# integer\n",
        "#We can use int data type to represent whole numbers (integral values)\n",
        "x=1\n",
        "print(x)\n",
        "print(id(x))\n",
        "print(type(x))"
      ],
      "metadata": {
        "colab": {
          "base_uri": "https://localhost:8080/"
        },
        "id": "ROUI-FZMCGGn",
        "outputId": "2dcf554b-cda4-43fa-dbc6-d8c241477eaf"
      },
      "execution_count": 12,
      "outputs": [
        {
          "output_type": "stream",
          "name": "stdout",
          "text": [
            "1\n",
            "135801201410288\n",
            "<class 'int'>\n"
          ]
        }
      ]
    },
    {
      "cell_type": "code",
      "source": [
        "#Float data type\n",
        "#We can use float data type to represent floating point values (decimal values)\n",
        "f = 1.234\n",
        "print(f)\n",
        "print(id(f))\n",
        "print(type(f))"
      ],
      "metadata": {
        "colab": {
          "base_uri": "https://localhost:8080/"
        },
        "id": "a0Bw2EkDCqyN",
        "outputId": "6e2a2da3-7ae4-4991-fc01-bfa6ae69bf99"
      },
      "execution_count": 14,
      "outputs": [
        {
          "output_type": "stream",
          "name": "stdout",
          "text": [
            "1.234\n",
            "135800907641040\n",
            "<class 'float'>\n"
          ]
        }
      ]
    },
    {
      "cell_type": "code",
      "source": [
        "#complex data type\n",
        "a = 3 +5j\n",
        "print(a)\n",
        "print(id(a))\n",
        "print(type(a))\n"
      ],
      "metadata": {
        "colab": {
          "base_uri": "https://localhost:8080/"
        },
        "id": "WRwebTwWC38F",
        "outputId": "e2b1639a-3f07-498e-cd33-f7c47312d22b"
      },
      "execution_count": 15,
      "outputs": [
        {
          "output_type": "stream",
          "name": "stdout",
          "text": [
            "(3+5j)\n",
            "135800907640944\n",
            "<class 'complex'>\n"
          ]
        }
      ]
    },
    {
      "cell_type": "code",
      "source": [
        "# bool Data Type:\n",
        "#The only allowed values for this data type are:\n",
        "\n",
        "# True and False\n",
        "\n",
        "# Internally Python represents True as 1 and False as 0\n",
        "\n",
        "#b = True type(b) # bool"
      ],
      "metadata": {
        "id": "nNjUTtlwB1D-"
      },
      "execution_count": null,
      "outputs": []
    },
    {
      "cell_type": "code",
      "source": [
        "#5) string(str) Data Type\n",
        "#A String is a sequence of characters enclosed within single quotes or double quotes.\n",
        "a1 = \"Artificial Intelligence\"\n",
        "print(a1)\n",
        "print(id(a1))\n",
        "print(type(a1))"
      ],
      "metadata": {
        "colab": {
          "base_uri": "https://localhost:8080/"
        },
        "id": "Ua0MDL4MDcI_",
        "outputId": "62fc093c-54d1-4bb7-ebaa-7508ce56b05d"
      },
      "execution_count": 16,
      "outputs": [
        {
          "output_type": "stream",
          "name": "stdout",
          "text": [
            "Artificial Intelligence\n",
            "135800153401312\n",
            "<class 'str'>\n"
          ]
        }
      ]
    },
    {
      "cell_type": "code",
      "source": [],
      "metadata": {
        "id": "sKgCQvgKDpDB"
      },
      "execution_count": 16,
      "outputs": []
    }
  ]
}