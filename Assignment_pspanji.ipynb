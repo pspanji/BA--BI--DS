{
  "nbformat": 4,
  "nbformat_minor": 0,
  "metadata": {
    "colab": {
      "provenance": [],
      "authorship_tag": "ABX9TyNb83td/O8duylyTKqROO84",
      "include_colab_link": true
    },
    "kernelspec": {
      "name": "python3",
      "display_name": "Python 3"
    },
    "language_info": {
      "name": "python"
    }
  },
  "cells": [
    {
      "cell_type": "markdown",
      "metadata": {
        "id": "view-in-github",
        "colab_type": "text"
      },
      "source": [
        "<a href=\"https://colab.research.google.com/github/pspanji/BA--BI--DS/blob/main/Assignment_pspanji.ipynb\" target=\"_parent\"><img src=\"https://colab.research.google.com/assets/colab-badge.svg\" alt=\"Open In Colab\"/></a>"
      ]
    },
    {
      "cell_type": "code",
      "source": [
        "a=input(\"Enter the name of team:\")\n",
        "b=int(input(\"Total Number of matches:\"))\n",
        "c=int(input(\"Number of matches won:\"))\n",
        "d=int(input(\"Number of matches Draw:\"))\n",
        "e=int(input(\"Number of matches loose:\"))\n",
        "print(\"Win=\",c)\n",
        "print(\"Draw=\",d)\n",
        "print(\"Loose=\",e)\n",
        "a = c*3+d*1+e*0\n",
        "print(\"aravali_points =\",a)"
      ],
      "metadata": {
        "colab": {
          "base_uri": "https://localhost:8080/"
        },
        "id": "JnPuit761kXB",
        "outputId": "3d705df2-8306-4bc0-a15c-6f6b173bacca"
      },
      "execution_count": 15,
      "outputs": [
        {
          "output_type": "stream",
          "name": "stdout",
          "text": [
            "Enter the name of team:aravali\n",
            "Total Number of matches:8\n",
            "Number of matches won:4\n",
            "Number of matches Draw:1\n",
            "Number of matches loose:3\n",
            "Win= 4\n",
            "Draw= 1\n",
            "Loose= 3\n",
            "aravali_points = 13\n"
          ]
        }
      ]
    },
    {
      "cell_type": "code",
      "source": [],
      "metadata": {
        "id": "MuRpn4rd5Q8s"
      },
      "execution_count": null,
      "outputs": []
    }
  ]
}