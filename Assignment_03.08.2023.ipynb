{
  "nbformat": 4,
  "nbformat_minor": 0,
  "metadata": {
    "colab": {
      "provenance": [],
      "authorship_tag": "ABX9TyOIy8HZBwYrYpk1i3LRPygi",
      "include_colab_link": true
    },
    "kernelspec": {
      "name": "python3",
      "display_name": "Python 3"
    },
    "language_info": {
      "name": "python"
    }
  },
  "cells": [
    {
      "cell_type": "markdown",
      "metadata": {
        "id": "view-in-github",
        "colab_type": "text"
      },
      "source": [
        "<a href=\"https://colab.research.google.com/github/pspanji/BA--BI--DS/blob/main/Assignment_03.08.2023.ipynb\" target=\"_parent\"><img src=\"https://colab.research.google.com/assets/colab-badge.svg\" alt=\"Open In Colab\"/></a>"
      ]
    },
    {
      "cell_type": "code",
      "execution_count": 10,
      "metadata": {
        "colab": {
          "base_uri": "https://localhost:8080/"
        },
        "id": "iLIJKT_5PupH",
        "outputId": "98d3ddbb-a5e6-43da-917e-784b0c434f70"
      },
      "outputs": [
        {
          "output_type": "stream",
          "name": "stdout",
          "text": [
            "Enter the value of x2\n",
            "func_evaluated_at_x= 6\n"
          ]
        }
      ],
      "source": [
        "#Problem 2\n",
        "x=int(input(\"Enter the value of x\"))\n",
        "fx=x*x+3*x-4\n",
        "print(\"func_evaluated_at_x=\",fx);"
      ]
    },
    {
      "cell_type": "code",
      "source": [
        "#Problem 3\n",
        "a=int(input(\"enter the Apples\"))\n",
        "b=int(input(\"enter the Bananas\"))\n",
        "c=int(input(\"enter the Oranges\"))\n",
        "Fruits=a+b+c;\n",
        "print(Fruits)\n",
        "Apples=a/Fruits*100\n",
        "Bananas=b/Fruits*100\n",
        "Oranges=c/Fruits*100\n",
        "print(\"# Calculate the percentage of apples\",Apples)\n",
        "print(\"# Calculate the percentage of bananas\",Bananas)\n",
        "print(\"# Calculate the percentage of oranges\",Oranges)\n",
        "\n"
      ],
      "metadata": {
        "colab": {
          "base_uri": "https://localhost:8080/"
        },
        "id": "AwQuP-N1Sc35",
        "outputId": "45dafe04-fab4-4513-c52c-24db96293ee2"
      },
      "execution_count": 23,
      "outputs": [
        {
          "output_type": "stream",
          "name": "stdout",
          "text": [
            "enter the Apples45\n",
            "enter the Bananas30\n",
            "enter the Oranges65\n",
            "140\n",
            "# Calculate the percentage of apples 32.142857142857146\n",
            "# Calculate the percentage of bananas 21.428571428571427\n",
            "# Calculate the percentage of oranges 46.42857142857143\n"
          ]
        }
      ]
    },
    {
      "cell_type": "code",
      "source": [
        "#Problem 4\n",
        "#You were playing a fun guessing game during your school break. There were a total of 100 participants excluding you. Out of these 100 people,\n",
        "#30 were Maths Majors, 45 were Economics Majors and 25 were Physics Majors.\n",
        "#The game was divided into three rounds.\n",
        "#In the first round, you had to guess the number of Maths Majors and you correctly guessed 20 of them.\n",
        "#In the second round, you had to guess the number of Economics Majors and you correctly guessed 30 of them.\n",
        "#In the final third round, you had to guess the number of Physics Majors and you correctly guessed 20 of them.\n",
        "#Accuracy is defined as the number of correct guesses upon total number of people in the group (expressed in percentage)\n",
        "#Define your variables\n",
        "# Store the number of Maths majors\n",
        "x=int(input(\"Maths Majors\"))\n",
        "\n",
        "# Store the number of Economics majors\n",
        "y=int(input(\"Economics majors\"))\n",
        "\n",
        "# Store the number of Physics majors\n",
        "z=int(input(\"Physics majors\"))\n",
        "T=x+y+z\n",
        "# Store the number of your correct guesses of Maths majors\n",
        "a=int(input(\"guesses of Maths majors\"))\n",
        "\n",
        "# Store the number of your correct guesses of Economics majors\n",
        "b=int(input(\"guesses of Economics majors\"))\n",
        "\n",
        "# Store the number of your correct guesses of Physics majors\n",
        "c=int(input(\"guesses of Physics majors\"))\n",
        "#Calculate your accuracy in each of the three rounds\n",
        "\n",
        "MMA=a/T*100\n",
        "EMA=b/T*100\n",
        "PMA=c/T*100\n",
        "\n",
        "# Print the Maths accuracy\n",
        "print(\"# Calculate the percentage of Maths accuracy\",MMA)\n",
        "# Print the Economics accuracy\n",
        "print(\"# Calculate the percentage of Economics accuracy\",EMA)\n",
        "# Print the Physics accuracy\n",
        "print(\"# Calculate the percentage of Physics accuracy\",PMA)\n",
        "\n",
        "#Calculate your overall accuracy in the entire game\n",
        "# Print the overall accuracy\n",
        "OA=(a+b+c)/(T)*100\n",
        "print(\"# Calculate the percentage of overall accuracy\",OA)"
      ],
      "metadata": {
        "colab": {
          "base_uri": "https://localhost:8080/"
        },
        "id": "UZX7x6leWPFw",
        "outputId": "d07a9a88-cf11-40d8-f8b3-3444afdac727"
      },
      "execution_count": 29,
      "outputs": [
        {
          "output_type": "stream",
          "name": "stdout",
          "text": [
            "Maths Majors30\n",
            "Economics majors45\n",
            "Physics majors25\n",
            "guesses of Maths majors20\n",
            "guesses of Economics majors30\n",
            "guesses of Physics majors20\n",
            "# Calculate the percentage of Maths accuracy 20.0\n",
            "# Calculate the percentage of Economics accuracy 30.0\n",
            "# Calculate the percentage of Physics accuracy 20.0\n",
            "# Calculate the percentage of overall accuracy 70.0\n"
          ]
        }
      ]
    },
    {
      "cell_type": "code",
      "source": [
        "#Problem 1\n",
        "a=input(\"Enter the name of team:\")\n",
        "b=int(input(\"Total Number of matches:\"))\n",
        "c=int(input(\"Number of matches won:\"))\n",
        "d=int(input(\"Number of matches Draw:\"))\n",
        "e=int(input(\"Number of matches loose:\"))\n",
        "print(\"Win=\",c)\n",
        "print(\"Draw=\",d)\n",
        "print(\"Loose=\",e)\n",
        "a = c*3+d*1+e*0\n",
        "print(\"aravali_points =\",a)\n",
        "\n",
        "Enter the name of team:aravali\n",
        "Total Number of matches:8\n",
        "Number of matches won:4\n",
        "Number of matches Draw:1\n",
        "Number of matches loose:3\n",
        "Win= 4\n",
        "Draw= 1\n",
        "Loose= 3\n",
        "aravali_points = 13"
      ],
      "metadata": {
        "id": "U8udMoJZZR5N"
      },
      "execution_count": null,
      "outputs": []
    }
  ]
}