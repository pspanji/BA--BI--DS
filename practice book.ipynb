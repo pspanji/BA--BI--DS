{
  "nbformat": 4,
  "nbformat_minor": 0,
  "metadata": {
    "colab": {
      "provenance": [],
      "authorship_tag": "ABX9TyPA7HRrBw71G4C9d/3wrMtO",
      "include_colab_link": true
    },
    "kernelspec": {
      "name": "python3",
      "display_name": "Python 3"
    },
    "language_info": {
      "name": "python"
    }
  },
  "cells": [
    {
      "cell_type": "markdown",
      "metadata": {
        "id": "view-in-github",
        "colab_type": "text"
      },
      "source": [
        "<a href=\"https://colab.research.google.com/github/pspanji/BA--BI--DS/blob/main/practice%20book.ipynb\" target=\"_parent\"><img src=\"https://colab.research.google.com/assets/colab-badge.svg\" alt=\"Open In Colab\"/></a>"
      ]
    },
    {
      "cell_type": "code",
      "execution_count": 1,
      "metadata": {
        "colab": {
          "base_uri": "https://localhost:8080/"
        },
        "id": "X0yROjMEUSCP",
        "outputId": "4479caf0-c81b-4889-ea9c-31c994d8f3e0"
      },
      "outputs": [
        {
          "output_type": "stream",
          "name": "stdout",
          "text": [
            "france\n"
          ]
        }
      ],
      "source": [
        "name = \"Tom\"\n",
        "country = \"france\"\n",
        "age = 35\n",
        "print(country)\n"
      ]
    },
    {
      "cell_type": "markdown",
      "source": [
        "name = \"anna\"\n",
        "surname = \"anderson\"\n",
        "print(name+surname)"
      ],
      "metadata": {
        "id": "tORvS3vCVgKT"
      }
    },
    {
      "cell_type": "code",
      "source": [
        "num = '45'\n",
        "print(int(num)+3)"
      ],
      "metadata": {
        "colab": {
          "base_uri": "https://localhost:8080/"
        },
        "id": "JiedCKsaWRQT",
        "outputId": "41908491-b9cd-4d7a-9539-830db48d67f4"
      },
      "execution_count": 4,
      "outputs": [
        {
          "output_type": "stream",
          "name": "stdout",
          "text": [
            "48\n"
          ]
        }
      ]
    },
    {
      "cell_type": "code",
      "source": [
        "\"happy birthday\".capitalize()"
      ],
      "metadata": {
        "colab": {
          "base_uri": "https://localhost:8080/",
          "height": 35
        },
        "id": "EVHwlDk1YFTv",
        "outputId": "7b442f04-2f42-437a-a560-17835e811a31"
      },
      "execution_count": 5,
      "outputs": [
        {
          "output_type": "execute_result",
          "data": {
            "text/plain": [
              "'Happy birthday'"
            ],
            "application/vnd.google.colaboratory.intrinsic+json": {
              "type": "string"
            }
          },
          "metadata": {},
          "execution_count": 5
        }
      ]
    },
    {
      "cell_type": "code",
      "source": [
        "print(\"robot\".find(\"t\"))"
      ],
      "metadata": {
        "colab": {
          "base_uri": "https://localhost:8080/"
        },
        "id": "oXFGV7RVYpZ1",
        "outputId": "de1f05ab-7365-462f-99f8-7571deed0d41"
      },
      "execution_count": 6,
      "outputs": [
        {
          "output_type": "stream",
          "name": "stdout",
          "text": [
            "4\n"
          ]
        }
      ]
    },
    {
      "cell_type": "code",
      "source": [
        "print(\"robot\".find(\"A\"))"
      ],
      "metadata": {
        "colab": {
          "base_uri": "https://localhost:8080/"
        },
        "id": "Xu_MQgzNY_aY",
        "outputId": "179b87e7-b902-4766-b754-6baea9698aaf"
      },
      "execution_count": 7,
      "outputs": [
        {
          "output_type": "stream",
          "name": "stdout",
          "text": [
            "-1\n"
          ]
        }
      ]
    },
    {
      "cell_type": "code",
      "source": [
        "item = 'pen'\n",
        "print(item.find(\"e\"))"
      ],
      "metadata": {
        "colab": {
          "base_uri": "https://localhost:8080/"
        },
        "id": "sZsk8j0bZJiY",
        "outputId": "ff1b6e54-51eb-40fe-fdfa-0f1873b9d4d3"
      },
      "execution_count": 11,
      "outputs": [
        {
          "output_type": "stream",
          "name": "stdout",
          "text": [
            "1\n"
          ]
        }
      ]
    },
    {
      "cell_type": "markdown",
      "source": [
        "word = 'vehicle'\n",
        "print(word.find('r'))"
      ],
      "metadata": {
        "id": "CoqPwmGqZm1W"
      }
    },
    {
      "cell_type": "code",
      "source": [
        "items = [\"bike\", \"car\", \"boat\", \"scooter\"]"
      ],
      "metadata": {
        "id": "kduWih1qan3-"
      },
      "execution_count": 15,
      "outputs": []
    },
    {
      "cell_type": "code",
      "source": [
        "movie = \"Avatar\"\n",
        "print(len(movie))"
      ],
      "metadata": {
        "colab": {
          "base_uri": "https://localhost:8080/"
        },
        "id": "zqbSa3iOa4F6",
        "outputId": "64041934-3b9a-4e14-ac63-2924342c8c73"
      },
      "execution_count": 16,
      "outputs": [
        {
          "output_type": "stream",
          "name": "stdout",
          "text": [
            "6\n"
          ]
        }
      ]
    },
    {
      "cell_type": "code",
      "source": [
        "movies = [\"Avatar\", \"Titanic\", \"Avengers\"]\n",
        "movies.append(\"Alien\")\n",
        "print(movies[3])"
      ],
      "metadata": {
        "colab": {
          "base_uri": "https://localhost:8080/"
        },
        "id": "zwizJqK0biNJ",
        "outputId": "9e2637d5-393c-40cf-809a-d4ea66c68758"
      },
      "execution_count": 17,
      "outputs": [
        {
          "output_type": "stream",
          "name": "stdout",
          "text": [
            "Alien\n"
          ]
        }
      ]
    },
    {
      "cell_type": "code",
      "source": [
        "items = [\"book\", \"pen\", \"pencil\"]\n",
        "items.insert(2,\"marker\")\n",
        "print(items)\n",
        "print(items[2])"
      ],
      "metadata": {
        "colab": {
          "base_uri": "https://localhost:8080/"
        },
        "id": "aSEzYsGYbyLf",
        "outputId": "d7a19e4b-47a6-4bbf-d397-2b02dcd1bc6a"
      },
      "execution_count": 18,
      "outputs": [
        {
          "output_type": "stream",
          "name": "stdout",
          "text": [
            "['book', 'pen', 'marker', 'pencil']\n",
            "marker\n"
          ]
        }
      ]
    },
    {
      "cell_type": "code",
      "source": [
        "colors = [\"Red\", \"Blue\", \"Yellow\"]\n",
        "colors.insert(2, \"Green\");\n",
        "print(colors)"
      ],
      "metadata": {
        "colab": {
          "base_uri": "https://localhost:8080/"
        },
        "id": "-OAl7CaScB7S",
        "outputId": "29fbf5f0-65f1-4b90-e282-d4e1f5af0048"
      },
      "execution_count": 20,
      "outputs": [
        {
          "output_type": "stream",
          "name": "stdout",
          "text": [
            "['Red', 'Blue', 'Green', 'Yellow']\n"
          ]
        }
      ]
    },
    {
      "cell_type": "code",
      "source": [
        "colors = [\"Red\", \"Blue\", \"Yellow\"]\n",
        "colors.insert(2, \"Green\")\n",
        "colors.append(\"Black\")\n",
        "print(colors[3])"
      ],
      "metadata": {
        "colab": {
          "base_uri": "https://localhost:8080/"
        },
        "id": "GkRmgx9ccRKG",
        "outputId": "0b300386-4586-4717-a6d1-28364b823365"
      },
      "execution_count": 21,
      "outputs": [
        {
          "output_type": "stream",
          "name": "stdout",
          "text": [
            "Yellow\n"
          ]
        }
      ]
    },
    {
      "cell_type": "code",
      "source": [
        "items = [\"book\", \"pen\", \"pencil\"]\n",
        "items.pop(2)\n",
        "items.append(\"parv\")\n",
        "items.insert(2,\"panji\")\n",
        "items.insert(1,\"prakash\")\n",
        "items.insert(2,\"priyanka\")\n",
        "items.pop(3)\n",
        "print(items)\n",
        "print(items[1])"
      ],
      "metadata": {
        "colab": {
          "base_uri": "https://localhost:8080/"
        },
        "id": "hO9t1wpXccUC",
        "outputId": "34cf2153-2b2e-4d27-bdca-b21c0d68967b"
      },
      "execution_count": 28,
      "outputs": [
        {
          "output_type": "stream",
          "name": "stdout",
          "text": [
            "['book', 'prakash', 'priyanka', 'panji', 'parv']\n",
            "prakash\n"
          ]
        }
      ]
    },
    {
      "cell_type": "code",
      "source": [
        "movies = ['Avengers', 'Titanic', 'Fight Club']\n",
        "movies.append('Terminator')\n",
        "movies.pop(1)\n",
        "print(movies)"
      ],
      "metadata": {
        "colab": {
          "base_uri": "https://localhost:8080/"
        },
        "id": "w_GbDu99fD5a",
        "outputId": "9906d3b1-93d2-4ef3-ccc5-ccfb8fc3fe7e"
      },
      "execution_count": 36,
      "outputs": [
        {
          "output_type": "stream",
          "name": "stdout",
          "text": [
            "['Avengers', 'Fight Club', 'Terminator']\n"
          ]
        }
      ]
    },
    {
      "cell_type": "code",
      "source": [
        "colors = ['Red', 'Yellow', 'Green']\n",
        "colors.append('Orange')\n",
        "colors.insert(2, 'Blue')\n",
        "print(colors)"
      ],
      "metadata": {
        "colab": {
          "base_uri": "https://localhost:8080/"
        },
        "id": "33GnwpVefWXG",
        "outputId": "3b99d120-07c4-46aa-dd34-8087dd136bd8"
      },
      "execution_count": 38,
      "outputs": [
        {
          "output_type": "stream",
          "name": "stdout",
          "text": [
            "['Red', 'Yellow', 'Blue', 'Green', 'Orange']\n"
          ]
        }
      ]
    },
    {
      "cell_type": "code",
      "source": [
        "#taking the weight as input\n",
        "weight = int(input())\n",
        "\n",
        "#complete the function\n",
        "def shipping_cost(weight):\n",
        "    shipping_cost=5*(weight);\n",
        "\n",
        "#function call\n",
        "shipping_cost(weight)"
      ],
      "metadata": {
        "colab": {
          "base_uri": "https://localhost:8080/"
        },
        "id": "9vzukQZ8kYwV",
        "outputId": "d67c51e0-9eb7-4bad-b443-38647296a36a"
      },
      "execution_count": 43,
      "outputs": [
        {
          "name": "stdout",
          "output_type": "stream",
          "text": [
            "5\n"
          ]
        }
      ]
    },
    {
      "cell_type": "code",
      "source": [
        "#taking the weight as input\n",
        "weight = int(input())\n",
        "#complete the function\n",
        "def shipping_cost():\n",
        "  shipping_cost = 5*weight\n",
        "#function call\n",
        "shipping_cost()"
      ],
      "metadata": {
        "colab": {
          "base_uri": "https://localhost:8080/"
        },
        "id": "N9-I5q4KmpOT",
        "outputId": "ab5c1287-cbaf-498f-c85b-726d2d955698"
      },
      "execution_count": 49,
      "outputs": [
        {
          "name": "stdout",
          "output_type": "stream",
          "text": [
            "5\n"
          ]
        }
      ]
    },
    {
      "cell_type": "markdown",
      "source": [
        "#taking the weight as input\n",
        "weight = int(input())\n",
        "\n",
        "#complete the function\n",
        "def shipping_cost(weight):\n",
        "    cost_per_kg = 5\n",
        "    shipping_cost=weight*cost_per_kg\n",
        "\n",
        "#function call\n",
        "shipping_cost(weight)"
      ],
      "metadata": {
        "id": "sQFWF8ZMoo3R"
      }
    },
    {
      "cell_type": "code",
      "source": [
        "def rect(length, width):\n",
        "  area = length * width\n",
        "  perimeter = 2 * length + 2 * width\n",
        "  return area, perimeter #2 values\n",
        "\n",
        "x, y = rect(500, 200) #2 variables\n",
        "print(x, y)"
      ],
      "metadata": {
        "colab": {
          "base_uri": "https://localhost:8080/"
        },
        "id": "UMoJAvZpslgi",
        "outputId": "fa315263-5ccf-4826-f907-4e318329d45a"
      },
      "execution_count": 55,
      "outputs": [
        {
          "output_type": "stream",
          "name": "stdout",
          "text": [
            "100000 1400\n"
          ]
        }
      ]
    },
    {
      "cell_type": "code",
      "source": [
        "def rect(d1, d2):\n",
        "  area = 0\n",
        "  return area\n",
        "  area = d1 * d2"
      ],
      "metadata": {
        "id": "Qngx8Fd1uiZC"
      },
      "execution_count": 64,
      "outputs": []
    },
    {
      "cell_type": "code",
      "source": [
        "def greet(name=\"Guest\"):\n",
        "  print(\"Welcome\", name)\n",
        "\n",
        "greet() # Welcome Guest\n",
        "greet(\"John\") # Welcome John\n"
      ],
      "metadata": {
        "colab": {
          "base_uri": "https://localhost:8080/"
        },
        "id": "0AcIA559u_pi",
        "outputId": "500a9b03-bd3a-4df0-f5d2-94679a96e47a"
      },
      "execution_count": 65,
      "outputs": [
        {
          "output_type": "stream",
          "name": "stdout",
          "text": [
            "Welcome Guest\n",
            "Welcome John\n"
          ]
        }
      ]
    },
    {
      "cell_type": "markdown",
      "source": [
        "print(\"Score\", 98)"
      ],
      "metadata": {
        "id": "uNUvz95qvmNn"
      }
    },
    {
      "cell_type": "code",
      "source": [
        "book = \"1984\"\n",
        "print(len(book))"
      ],
      "metadata": {
        "colab": {
          "base_uri": "https://localhost:8080/"
        },
        "id": "_yDYQQ8zwAmp",
        "outputId": "5ef487ba-1fc1-41e8-95cd-7270a8218005"
      },
      "execution_count": 67,
      "outputs": [
        {
          "output_type": "stream",
          "name": "stdout",
          "text": [
            "4\n"
          ]
        }
      ]
    },
    {
      "cell_type": "code",
      "source": [
        "movies=[\"Avatar\",\"Titanic\",\"Alien\"]\n",
        "movies.append(\"Avengers\")\n",
        "movies.insert(2, \"Terminator\")\n",
        "print(movies[3])"
      ],
      "metadata": {
        "colab": {
          "base_uri": "https://localhost:8080/"
        },
        "id": "tvaJ3jgzwFJ7",
        "outputId": "78db5d39-3c4a-4d1b-8509-817ac2238662"
      },
      "execution_count": 68,
      "outputs": [
        {
          "output_type": "stream",
          "name": "stdout",
          "text": [
            "Alien\n"
          ]
        }
      ]
    }
  ]
}