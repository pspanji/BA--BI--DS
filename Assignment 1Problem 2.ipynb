{
  "nbformat": 4,
  "nbformat_minor": 0,
  "metadata": {
    "colab": {
      "provenance": [],
      "authorship_tag": "ABX9TyMpQ4BN4KxgWRBTHPuCwN5m",
      "include_colab_link": true
    },
    "kernelspec": {
      "name": "python3",
      "display_name": "Python 3"
    },
    "language_info": {
      "name": "python"
    }
  },
  "cells": [
    {
      "cell_type": "markdown",
      "metadata": {
        "id": "view-in-github",
        "colab_type": "text"
      },
      "source": [
        "<a href=\"https://colab.research.google.com/github/pspanji/BA--BI--DS/blob/main/Assignment%201Problem%202.ipynb\" target=\"_parent\"><img src=\"https://colab.research.google.com/assets/colab-badge.svg\" alt=\"Open In Colab\"/></a>"
      ]
    },
    {
      "cell_type": "code",
      "execution_count": 10,
      "metadata": {
        "colab": {
          "base_uri": "https://localhost:8080/"
        },
        "id": "iLIJKT_5PupH",
        "outputId": "98d3ddbb-a5e6-43da-917e-784b0c434f70"
      },
      "outputs": [
        {
          "output_type": "stream",
          "name": "stdout",
          "text": [
            "Enter the value of x2\n",
            "func_evaluated_at_x= 6\n"
          ]
        }
      ],
      "source": [
        "x=int(input(\"Enter the value of x\"))\n",
        "fx=x*x+3*x-4\n",
        "print(\"func_evaluated_at_x=\",fx);"
      ]
    }
  ]
}