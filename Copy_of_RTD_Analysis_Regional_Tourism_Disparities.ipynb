{
  "nbformat": 4,
  "nbformat_minor": 0,
  "metadata": {
    "colab": {
      "provenance": [],
      "authorship_tag": "ABX9TyNWHQ7tN+EYw4IkwuIgC113",
      "include_colab_link": true
    },
    "kernelspec": {
      "name": "python3",
      "display_name": "Python 3"
    },
    "language_info": {
      "name": "python"
    }
  },
  "cells": [
    {
      "cell_type": "markdown",
      "metadata": {
        "id": "view-in-github",
        "colab_type": "text"
      },
      "source": [
        "<a href=\"https://colab.research.google.com/github/pspanji/BA--BI--DS/blob/main/Copy_of_RTD_Analysis_Regional_Tourism_Disparities.ipynb\" target=\"_parent\"><img src=\"https://colab.research.google.com/assets/colab-badge.svg\" alt=\"Open In Colab\"/></a>"
      ]
    },
    {
      "cell_type": "markdown",
      "source": [
        "#RTD Analysis_Regional Tourism Disparities\n"
      ],
      "metadata": {
        "id": "S0DM0-tXH1cl"
      }
    },
    {
      "cell_type": "code",
      "source": [
        "# Loading the dataframe in to file for data insights and analysis.\n",
        "#top 10prefered countries which are being prefered by tourists\\\n",
        "#which is the most expensive courtry for visit\n",
        "#conuntry that contry has largest contribution for GDP\n"
      ],
      "metadata": {
        "id": "qovCDdzFIFyX"
      },
      "execution_count": null,
      "outputs": []
    }
  ]
}