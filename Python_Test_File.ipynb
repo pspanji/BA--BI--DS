{
  "nbformat": 4,
  "nbformat_minor": 0,
  "metadata": {
    "colab": {
      "provenance": [],
      "authorship_tag": "ABX9TyPJxOavaIbh989X/eG26ABq",
      "include_colab_link": true
    },
    "kernelspec": {
      "name": "python3",
      "display_name": "Python 3"
    },
    "language_info": {
      "name": "python"
    }
  },
  "cells": [
    {
      "cell_type": "markdown",
      "metadata": {
        "id": "view-in-github",
        "colab_type": "text"
      },
      "source": [
        "<a href=\"https://colab.research.google.com/github/pspanji/BA--BI--DS/blob/main/Python_Test_File.ipynb\" target=\"_parent\"><img src=\"https://colab.research.google.com/assets/colab-badge.svg\" alt=\"Open In Colab\"/></a>"
      ]
    },
    {
      "cell_type": "code",
      "execution_count": 14,
      "metadata": {
        "id": "fL3cM2WP8OW0"
      },
      "outputs": [],
      "source": [
        "import pandas as pd\n"
      ]
    },
    {
      "cell_type": "markdown",
      "source": [
        "# Heading\n",
        "## Sub Heading\n",
        "Inserting image will be easy copy and paste and then shift enter\n"
      ],
      "metadata": {
        "id": "S7UNEuEBBgCT"
      }
    },
    {
      "cell_type": "code",
      "source": [
        "a=3+4\n",
        "print(a)"
      ],
      "metadata": {
        "colab": {
          "base_uri": "https://localhost:8080/"
        },
        "id": "MdBlpL_eGKRg",
        "outputId": "dcc5095e-5daf-4923-a40b-3b6aa46fd147"
      },
      "execution_count": 15,
      "outputs": [
        {
          "output_type": "stream",
          "name": "stdout",
          "text": [
            "7\n"
          ]
        }
      ]
    },
    {
      "cell_type": "code",
      "source": [
        "a=5+9"
      ],
      "metadata": {
        "id": "O4FS3sZ_GPZf"
      },
      "execution_count": 18,
      "outputs": []
    },
    {
      "cell_type": "code",
      "source": [
        "print(a+a)"
      ],
      "metadata": {
        "colab": {
          "base_uri": "https://localhost:8080/"
        },
        "id": "YISsodmTGXcR",
        "outputId": "5b5238c2-dc99-42f2-ca9c-9a3e7d4c7856"
      },
      "execution_count": 19,
      "outputs": [
        {
          "output_type": "stream",
          "name": "stdout",
          "text": [
            "28\n"
          ]
        }
      ]
    },
    {
      "cell_type": "code",
      "source": [],
      "metadata": {
        "id": "feCXWLCvGZNf"
      },
      "execution_count": null,
      "outputs": []
    }
  ]
}