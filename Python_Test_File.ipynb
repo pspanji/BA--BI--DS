{
  "nbformat": 4,
  "nbformat_minor": 0,
  "metadata": {
    "colab": {
      "provenance": [],
      "authorship_tag": "ABX9TyM5yCFfjct8tjZ4BDuM4GXd",
      "include_colab_link": true
    },
    "kernelspec": {
      "name": "python3",
      "display_name": "Python 3"
    },
    "language_info": {
      "name": "python"
    }
  },
  "cells": [
    {
      "cell_type": "markdown",
      "metadata": {
        "id": "view-in-github",
        "colab_type": "text"
      },
      "source": [
        "<a href=\"https://colab.research.google.com/github/pspanji/BA--BI--DS/blob/main/Python_Test_File.ipynb\" target=\"_parent\"><img src=\"https://colab.research.google.com/assets/colab-badge.svg\" alt=\"Open In Colab\"/></a>"
      ]
    },
    {
      "cell_type": "code",
      "execution_count": null,
      "metadata": {
        "id": "fL3cM2WP8OW0"
      },
      "outputs": [],
      "source": [
        "import pandas as pd\n"
      ]
    },
    {
      "cell_type": "markdown",
      "source": [
        "# Heading\n",
        "## Sub Heading\n",
        "Inserting image will be easy copy and paste and then shift enter\n"
      ],
      "metadata": {
        "id": "S7UNEuEBBgCT"
      }
    },
    {
      "cell_type": "code",
      "source": [
        "a=3+4\n",
        "print(a)"
      ],
      "metadata": {
        "colab": {
          "base_uri": "https://localhost:8080/"
        },
        "id": "MdBlpL_eGKRg",
        "outputId": "dcc5095e-5daf-4923-a40b-3b6aa46fd147"
      },
      "execution_count": null,
      "outputs": [
        {
          "output_type": "stream",
          "name": "stdout",
          "text": [
            "7\n"
          ]
        }
      ]
    },
    {
      "cell_type": "code",
      "source": [
        "a=5+9"
      ],
      "metadata": {
        "id": "O4FS3sZ_GPZf"
      },
      "execution_count": null,
      "outputs": []
    },
    {
      "cell_type": "code",
      "source": [
        "print(a+a)"
      ],
      "metadata": {
        "colab": {
          "base_uri": "https://localhost:8080/"
        },
        "id": "YISsodmTGXcR",
        "outputId": "5b5238c2-dc99-42f2-ca9c-9a3e7d4c7856"
      },
      "execution_count": null,
      "outputs": [
        {
          "output_type": "stream",
          "name": "stdout",
          "text": [
            "28\n"
          ]
        }
      ]
    },
    {
      "cell_type": "code",
      "source": [
        "da=\"ajay_K\"\n",
        "cb=\"ajay_K\"\n",
        "print(id(da))\n",
        "print(id(cb))"
      ],
      "metadata": {
        "colab": {
          "base_uri": "https://localhost:8080/"
        },
        "id": "MLQkiZG76GFD",
        "outputId": "b2ed9b61-e205-449d-9446-a9aa652ebb94"
      },
      "execution_count": 2,
      "outputs": [
        {
          "output_type": "stream",
          "name": "stdout",
          "text": [
            "139626080639152\n",
            "139626080639152\n"
          ]
        }
      ]
    },
    {
      "cell_type": "code",
      "source": [
        "a=input(\"Enter the name of team:\")\n",
        "b=int(input(\"Total Number of matches:\"))\n",
        "c=int(input(\"Number of matches won:\"))\n",
        "d=int(input(\"Number of matches Draw:\"))\n",
        "e=int(input(\"Number of matches loose:\"))\n",
        "print(\"Win=\",c)\n",
        "print(\"Draw=\",d)\n",
        "print(\"Loose=\",e)\n",
        "a = c*3+d*1+e*0\n",
        "print(\"aravali_points =\",a)"
      ],
      "metadata": {
        "colab": {
          "base_uri": "https://localhost:8080/"
        },
        "id": "JnPuit761kXB",
        "outputId": "3d705df2-8306-4bc0-a15c-6f6b173bacca"
      },
      "execution_count": 15,
      "outputs": [
        {
          "output_type": "stream",
          "name": "stdout",
          "text": [
            "Enter the name of team:aravali\n",
            "Total Number of matches:8\n",
            "Number of matches won:4\n",
            "Number of matches Draw:1\n",
            "Number of matches loose:3\n",
            "Win= 4\n",
            "Draw= 1\n",
            "Loose= 3\n",
            "aravali_points = 13\n"
          ]
        }
      ]
    },
    {
      "cell_type": "code",
      "source": [],
      "metadata": {
        "id": "MuRpn4rd5Q8s"
      },
      "execution_count": null,
      "outputs": []
    }
  ]
}